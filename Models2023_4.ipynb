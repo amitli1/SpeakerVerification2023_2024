{
 "cells": [
  {
   "cell_type": "code",
   "execution_count": 17,
   "id": "8ca93af4-8389-439a-aced-06f16cadcb91",
   "metadata": {},
   "outputs": [],
   "source": [
    "import pandas as pd\n",
    "import os\n",
    "import shutil\n",
    "from tqdm import tqdm\n",
    "import umap\n",
    "import plotly.express as px\n",
    "import glob\n",
    "import torch\n",
    "import torchaudio\n",
    "import numpy as np\n",
    "MODEL_FILE = r'C:\\Users\\amitli\\Repo\\SpeakerVerification2024\\Models\\ecapa2\\ecapa2.pt'\n",
    "SRC_PATH   = r'C:\\Users\\amitli\\Repo\\SpeakerVerification2024\\Dataset_SR16000'"
   ]
  },
  {
   "cell_type": "markdown",
   "id": "e9a539b1-a996-4f1c-9c4e-5f1bb19696c1",
   "metadata": {},
   "source": [
    "<h2> Ecapa2 embeddings: </h2>"
   ]
  },
  {
   "cell_type": "code",
   "execution_count": 9,
   "id": "09fa1e37-36bb-4a56-a0da-8a9586d20f24",
   "metadata": {},
   "outputs": [],
   "source": [
    "df_dataset = pd.read_csv(rf'{SRC_PATH}\\speakers.csv')"
   ]
  },
  {
   "cell_type": "code",
   "execution_count": 10,
   "id": "e7ff65cf-0337-4e61-a763-85e5229ee636",
   "metadata": {},
   "outputs": [],
   "source": [
    "ecapa2    = torch.jit.load(MODEL_FILE, map_location='cuda')"
   ]
  },
  {
   "cell_type": "code",
   "execution_count": 13,
   "id": "468fec67-f307-45aa-bcc7-53e099263a51",
   "metadata": {},
   "outputs": [
    {
     "name": "stderr",
     "output_type": "stream",
     "text": [
      "100%|████████████████████████████████████████████████████████████████████████████████| 100/100 [00:54<00:00,  1.84it/s]\n"
     ]
    }
   ],
   "source": [
    "l_ecapa2_emb = []\n",
    "for file_name in tqdm(df_dataset.file_name.values):\n",
    "    audio, sr = torchaudio.load(rf'{SRC_PATH}\\{file_name}') \n",
    "    embedding = ecapa2(audio.to('cuda'))\n",
    "    embedding = embedding.cpu().reshape(-1).numpy()\n",
    "    l_ecapa2_emb.append(embedding)\n",
    "\n",
    "df_dataset['ecapa2'] = l_ecapa2_emb\n",
    "df_dataset.to_pickle('ecapa2.pkl')"
   ]
  },
  {
   "cell_type": "code",
   "execution_count": 14,
   "id": "e34bb8cb-d4ba-4d6b-a76d-25615fa3e7b7",
   "metadata": {},
   "outputs": [],
   "source": [
    "df_dataset = pd.read_pickle('ecapa2.pkl')"
   ]
  },
  {
   "cell_type": "code",
   "execution_count": 19,
   "id": "a77cb31c-83c6-473a-b025-44e46f2dc516",
   "metadata": {},
   "outputs": [
    {
     "name": "stderr",
     "output_type": "stream",
     "text": [
      "c:\\Users\\amitli\\Repo\\py310\\lib\\site-packages\\sklearn\\utils\\deprecation.py:151: FutureWarning: 'force_all_finite' was renamed to 'ensure_all_finite' in 1.6 and will be removed in 1.8.\n",
      "  warnings.warn(\n",
      "c:\\Users\\amitli\\Repo\\py310\\lib\\site-packages\\umap\\umap_.py:1952: UserWarning: n_jobs value 1 overridden to 1 by setting random_state. Use no seed for parallelism.\n",
      "  warn(\n"
     ]
    }
   ],
   "source": [
    "emb_arr = np.vstack(df_dataset.ecapa2.values)\n",
    "reducer = umap.UMAP(n_components=2, random_state=42)\n",
    "X_umap  = reducer.fit_transform(np.vstack(df_dataset.ecapa2.values))"
   ]
  },
  {
   "cell_type": "code",
   "execution_count": 29,
   "id": "95dc8cd5-e258-4c81-a704-a476f2f99753",
   "metadata": {},
   "outputs": [
    {
     "data": {
      "application/vnd.plotly.v1+json": {
       "config": {
        "plotlyServerURL": "https://plot.ly"
       },
       "data": [
        {
         "hovertemplate": "Speaker=1<br>UMAP1=%{x}<br>UMAP2=%{y}<extra></extra>",
         "legendgroup": "1",
         "marker": {
          "color": "#636efa",
          "symbol": "circle"
         },
         "mode": "markers",
         "name": "1",
         "orientation": "v",
         "showlegend": true,
         "type": "scatter",
         "x": [
          5.506921291351318,
          6.01260232925415,
          5.559943675994873,
          5.91020393371582,
          5.9577813148498535,
          5.667328357696533,
          5.680363655090332,
          9.732378005981445,
          9.528444290161133,
          9.642611503601074
         ],
         "xaxis": "x",
         "y": [
          12.86364459991455,
          13.071293830871582,
          13.154748916625977,
          13.033879280090332,
          12.72740650177002,
          13.044717788696289,
          12.389435768127441,
          11.027095794677734,
          11.138419151306152,
          11.149845123291016
         ],
         "yaxis": "y"
        },
        {
         "hovertemplate": "Speaker=2<br>UMAP1=%{x}<br>UMAP2=%{y}<extra></extra>",
         "legendgroup": "2",
         "marker": {
          "color": "#EF553B",
          "symbol": "circle"
         },
         "mode": "markers",
         "name": "2",
         "orientation": "v",
         "showlegend": true,
         "type": "scatter",
         "x": [
          9.829533576965332,
          9.686297416687012,
          9.84250545501709,
          9.512036323547363,
          9.945669174194336,
          9.635369300842285,
          10.14558219909668,
          9.75070571899414,
          10.063547134399414,
          10.120675086975098
         ],
         "xaxis": "x",
         "y": [
          9.748323440551758,
          9.675298690795898,
          9.340575218200684,
          9.282997131347656,
          9.703104019165039,
          9.537153244018555,
          9.542342185974121,
          9.385486602783203,
          9.256159782409668,
          9.59688949584961
         ],
         "yaxis": "y"
        },
        {
         "hovertemplate": "Speaker=3<br>UMAP1=%{x}<br>UMAP2=%{y}<extra></extra>",
         "legendgroup": "3",
         "marker": {
          "color": "#00cc96",
          "symbol": "circle"
         },
         "mode": "markers",
         "name": "3",
         "orientation": "v",
         "showlegend": true,
         "type": "scatter",
         "x": [
          14.957818984985352,
          14.990983963012695,
          14.527857780456543,
          15.196723937988281,
          14.968608856201172,
          15.057391166687012,
          14.634084701538086,
          14.458809852600098,
          14.846126556396484,
          14.43765640258789
         ],
         "xaxis": "x",
         "y": [
          14.024517059326172,
          14.370074272155762,
          14.358920097351074,
          14.077388763427734,
          13.976627349853516,
          13.881668090820312,
          14.086089134216309,
          13.916790962219238,
          14.126748085021973,
          14.208582878112793
         ],
         "yaxis": "y"
        },
        {
         "hovertemplate": "Speaker=4<br>UMAP1=%{x}<br>UMAP2=%{y}<extra></extra>",
         "legendgroup": "4",
         "marker": {
          "color": "#ab63fa",
          "symbol": "circle"
         },
         "mode": "markers",
         "name": "4",
         "orientation": "v",
         "showlegend": true,
         "type": "scatter",
         "x": [
          5.1155877113342285,
          5.183616638183594,
          5.285923480987549,
          4.911078929901123,
          4.915215015411377,
          4.893434047698975,
          5.064069747924805,
          5.058516025543213,
          5.173419952392578,
          5.237490653991699
         ],
         "xaxis": "x",
         "y": [
          10.872771263122559,
          10.832409858703613,
          10.514154434204102,
          10.959342956542969,
          10.583931922912598,
          10.565810203552246,
          10.591279029846191,
          10.851419448852539,
          10.354283332824707,
          10.964080810546875
         ],
         "yaxis": "y"
        },
        {
         "hovertemplate": "Speaker=5<br>UMAP1=%{x}<br>UMAP2=%{y}<extra></extra>",
         "legendgroup": "5",
         "marker": {
          "color": "#FFA15A",
          "symbol": "circle"
         },
         "mode": "markers",
         "name": "5",
         "orientation": "v",
         "showlegend": true,
         "type": "scatter",
         "x": [
          12.711339950561523,
          12.442739486694336,
          12.76006031036377,
          12.485761642456055,
          12.301782608032227,
          12.678946495056152,
          12.93076229095459,
          12.522026062011719,
          12.445404052734375,
          12.52174186706543
         ],
         "xaxis": "x",
         "y": [
          15.141164779663086,
          14.846346855163574,
          15.286456108093262,
          15.058418273925781,
          15.04636287689209,
          14.978055953979492,
          15.08014965057373,
          14.759846687316895,
          15.360941886901855,
          15.3939208984375
         ],
         "yaxis": "y"
        },
        {
         "hovertemplate": "Speaker=6<br>UMAP1=%{x}<br>UMAP2=%{y}<extra></extra>",
         "legendgroup": "6",
         "marker": {
          "color": "#19d3f3",
          "symbol": "circle"
         },
         "mode": "markers",
         "name": "6",
         "orientation": "v",
         "showlegend": true,
         "type": "scatter",
         "x": [
          13.59528636932373,
          13.984109878540039,
          14.070748329162598,
          13.728784561157227,
          13.853487014770508,
          13.604485511779785,
          13.984354019165039,
          13.719287872314453,
          13.957056999206543,
          13.446792602539062
         ],
         "xaxis": "x",
         "y": [
          2.6956019401550293,
          2.494746208190918,
          2.5123178958892822,
          2.6012961864471436,
          2.7393109798431396,
          2.3712158203125,
          2.3157405853271484,
          2.460078716278076,
          2.5295536518096924,
          2.6204686164855957
         ],
         "yaxis": "y"
        },
        {
         "hovertemplate": "Speaker=7<br>UMAP1=%{x}<br>UMAP2=%{y}<extra></extra>",
         "legendgroup": "7",
         "marker": {
          "color": "#FF6692",
          "symbol": "circle"
         },
         "mode": "markers",
         "name": "7",
         "orientation": "v",
         "showlegend": true,
         "type": "scatter",
         "x": [
          5.841790676116943,
          6.099458694458008,
          5.754965782165527,
          5.7567009925842285,
          9.467612266540527,
          5.953701972961426,
          5.707783222198486,
          5.968632221221924,
          5.937485218048096,
          5.775062084197998
         ],
         "xaxis": "x",
         "y": [
          14.305773735046387,
          14.06794548034668,
          14.084423065185547,
          14.366490364074707,
          11.445213317871094,
          14.26453685760498,
          14.287285804748535,
          14.058993339538574,
          14.460404396057129,
          13.824959754943848
         ],
         "yaxis": "y"
        },
        {
         "hovertemplate": "Speaker=8<br>UMAP1=%{x}<br>UMAP2=%{y}<extra></extra>",
         "legendgroup": "8",
         "marker": {
          "color": "#B6E880",
          "symbol": "circle"
         },
         "mode": "markers",
         "name": "8",
         "orientation": "v",
         "showlegend": true,
         "type": "scatter",
         "x": [
          15.209955215454102,
          14.881044387817383,
          14.866717338562012,
          14.716099739074707,
          15.123617172241211,
          14.790718078613281,
          15.140496253967285,
          14.800122261047363,
          15.00536823272705,
          15.243623733520508
         ],
         "xaxis": "x",
         "y": [
          10.416905403137207,
          10.793785095214844,
          10.837522506713867,
          10.526505470275879,
          10.775595664978027,
          10.551994323730469,
          10.741125106811523,
          10.582605361938477,
          10.300673484802246,
          10.537660598754883
         ],
         "yaxis": "y"
        },
        {
         "hovertemplate": "Speaker=9<br>UMAP1=%{x}<br>UMAP2=%{y}<extra></extra>",
         "legendgroup": "9",
         "marker": {
          "color": "#FF97FF",
          "symbol": "circle"
         },
         "mode": "markers",
         "name": "9",
         "orientation": "v",
         "showlegend": true,
         "type": "scatter",
         "x": [
          6.5095624923706055,
          6.537351131439209,
          6.630868911743164,
          6.394574165344238,
          6.689520835876465,
          6.600818634033203,
          6.483651638031006,
          6.820457458496094,
          9.621259689331055,
          9.415453910827637
         ],
         "xaxis": "x",
         "y": [
          12.262500762939453,
          12.404197692871094,
          12.122273445129395,
          12.487859725952148,
          12.419652938842773,
          12.678363800048828,
          12.860366821289062,
          12.391338348388672,
          10.946573257446289,
          10.947293281555176
         ],
         "yaxis": "y"
        },
        {
         "hovertemplate": "Speaker=10<br>UMAP1=%{x}<br>UMAP2=%{y}<extra></extra>",
         "legendgroup": "10",
         "marker": {
          "color": "#FECB52",
          "symbol": "circle"
         },
         "mode": "markers",
         "name": "10",
         "orientation": "v",
         "showlegend": true,
         "type": "scatter",
         "x": [
          16.341264724731445,
          16.513811111450195,
          16.624940872192383,
          16.12788963317871,
          16.516542434692383,
          16.313060760498047,
          16.346363067626953,
          16.428272247314453,
          16.68079376220703,
          16.424564361572266
         ],
         "xaxis": "x",
         "y": [
          16.046640396118164,
          15.83414363861084,
          16.270145416259766,
          16.273183822631836,
          16.196136474609375,
          16.376983642578125,
          16.313987731933594,
          16.267763137817383,
          15.9568452835083,
          15.849404335021973
         ],
         "yaxis": "y"
        }
       ],
       "layout": {
        "legend": {
         "title": {
          "text": "Speaker"
         },
         "tracegroupgap": 0
        },
        "template": {
         "data": {
          "bar": [
           {
            "error_x": {
             "color": "#2a3f5f"
            },
            "error_y": {
             "color": "#2a3f5f"
            },
            "marker": {
             "line": {
              "color": "#E5ECF6",
              "width": 0.5
             },
             "pattern": {
              "fillmode": "overlay",
              "size": 10,
              "solidity": 0.2
             }
            },
            "type": "bar"
           }
          ],
          "barpolar": [
           {
            "marker": {
             "line": {
              "color": "#E5ECF6",
              "width": 0.5
             },
             "pattern": {
              "fillmode": "overlay",
              "size": 10,
              "solidity": 0.2
             }
            },
            "type": "barpolar"
           }
          ],
          "carpet": [
           {
            "aaxis": {
             "endlinecolor": "#2a3f5f",
             "gridcolor": "white",
             "linecolor": "white",
             "minorgridcolor": "white",
             "startlinecolor": "#2a3f5f"
            },
            "baxis": {
             "endlinecolor": "#2a3f5f",
             "gridcolor": "white",
             "linecolor": "white",
             "minorgridcolor": "white",
             "startlinecolor": "#2a3f5f"
            },
            "type": "carpet"
           }
          ],
          "choropleth": [
           {
            "colorbar": {
             "outlinewidth": 0,
             "ticks": ""
            },
            "type": "choropleth"
           }
          ],
          "contour": [
           {
            "colorbar": {
             "outlinewidth": 0,
             "ticks": ""
            },
            "colorscale": [
             [
              0,
              "#0d0887"
             ],
             [
              0.1111111111111111,
              "#46039f"
             ],
             [
              0.2222222222222222,
              "#7201a8"
             ],
             [
              0.3333333333333333,
              "#9c179e"
             ],
             [
              0.4444444444444444,
              "#bd3786"
             ],
             [
              0.5555555555555556,
              "#d8576b"
             ],
             [
              0.6666666666666666,
              "#ed7953"
             ],
             [
              0.7777777777777778,
              "#fb9f3a"
             ],
             [
              0.8888888888888888,
              "#fdca26"
             ],
             [
              1,
              "#f0f921"
             ]
            ],
            "type": "contour"
           }
          ],
          "contourcarpet": [
           {
            "colorbar": {
             "outlinewidth": 0,
             "ticks": ""
            },
            "type": "contourcarpet"
           }
          ],
          "heatmap": [
           {
            "colorbar": {
             "outlinewidth": 0,
             "ticks": ""
            },
            "colorscale": [
             [
              0,
              "#0d0887"
             ],
             [
              0.1111111111111111,
              "#46039f"
             ],
             [
              0.2222222222222222,
              "#7201a8"
             ],
             [
              0.3333333333333333,
              "#9c179e"
             ],
             [
              0.4444444444444444,
              "#bd3786"
             ],
             [
              0.5555555555555556,
              "#d8576b"
             ],
             [
              0.6666666666666666,
              "#ed7953"
             ],
             [
              0.7777777777777778,
              "#fb9f3a"
             ],
             [
              0.8888888888888888,
              "#fdca26"
             ],
             [
              1,
              "#f0f921"
             ]
            ],
            "type": "heatmap"
           }
          ],
          "heatmapgl": [
           {
            "colorbar": {
             "outlinewidth": 0,
             "ticks": ""
            },
            "colorscale": [
             [
              0,
              "#0d0887"
             ],
             [
              0.1111111111111111,
              "#46039f"
             ],
             [
              0.2222222222222222,
              "#7201a8"
             ],
             [
              0.3333333333333333,
              "#9c179e"
             ],
             [
              0.4444444444444444,
              "#bd3786"
             ],
             [
              0.5555555555555556,
              "#d8576b"
             ],
             [
              0.6666666666666666,
              "#ed7953"
             ],
             [
              0.7777777777777778,
              "#fb9f3a"
             ],
             [
              0.8888888888888888,
              "#fdca26"
             ],
             [
              1,
              "#f0f921"
             ]
            ],
            "type": "heatmapgl"
           }
          ],
          "histogram": [
           {
            "marker": {
             "pattern": {
              "fillmode": "overlay",
              "size": 10,
              "solidity": 0.2
             }
            },
            "type": "histogram"
           }
          ],
          "histogram2d": [
           {
            "colorbar": {
             "outlinewidth": 0,
             "ticks": ""
            },
            "colorscale": [
             [
              0,
              "#0d0887"
             ],
             [
              0.1111111111111111,
              "#46039f"
             ],
             [
              0.2222222222222222,
              "#7201a8"
             ],
             [
              0.3333333333333333,
              "#9c179e"
             ],
             [
              0.4444444444444444,
              "#bd3786"
             ],
             [
              0.5555555555555556,
              "#d8576b"
             ],
             [
              0.6666666666666666,
              "#ed7953"
             ],
             [
              0.7777777777777778,
              "#fb9f3a"
             ],
             [
              0.8888888888888888,
              "#fdca26"
             ],
             [
              1,
              "#f0f921"
             ]
            ],
            "type": "histogram2d"
           }
          ],
          "histogram2dcontour": [
           {
            "colorbar": {
             "outlinewidth": 0,
             "ticks": ""
            },
            "colorscale": [
             [
              0,
              "#0d0887"
             ],
             [
              0.1111111111111111,
              "#46039f"
             ],
             [
              0.2222222222222222,
              "#7201a8"
             ],
             [
              0.3333333333333333,
              "#9c179e"
             ],
             [
              0.4444444444444444,
              "#bd3786"
             ],
             [
              0.5555555555555556,
              "#d8576b"
             ],
             [
              0.6666666666666666,
              "#ed7953"
             ],
             [
              0.7777777777777778,
              "#fb9f3a"
             ],
             [
              0.8888888888888888,
              "#fdca26"
             ],
             [
              1,
              "#f0f921"
             ]
            ],
            "type": "histogram2dcontour"
           }
          ],
          "mesh3d": [
           {
            "colorbar": {
             "outlinewidth": 0,
             "ticks": ""
            },
            "type": "mesh3d"
           }
          ],
          "parcoords": [
           {
            "line": {
             "colorbar": {
              "outlinewidth": 0,
              "ticks": ""
             }
            },
            "type": "parcoords"
           }
          ],
          "pie": [
           {
            "automargin": true,
            "type": "pie"
           }
          ],
          "scatter": [
           {
            "fillpattern": {
             "fillmode": "overlay",
             "size": 10,
             "solidity": 0.2
            },
            "type": "scatter"
           }
          ],
          "scatter3d": [
           {
            "line": {
             "colorbar": {
              "outlinewidth": 0,
              "ticks": ""
             }
            },
            "marker": {
             "colorbar": {
              "outlinewidth": 0,
              "ticks": ""
             }
            },
            "type": "scatter3d"
           }
          ],
          "scattercarpet": [
           {
            "marker": {
             "colorbar": {
              "outlinewidth": 0,
              "ticks": ""
             }
            },
            "type": "scattercarpet"
           }
          ],
          "scattergeo": [
           {
            "marker": {
             "colorbar": {
              "outlinewidth": 0,
              "ticks": ""
             }
            },
            "type": "scattergeo"
           }
          ],
          "scattergl": [
           {
            "marker": {
             "colorbar": {
              "outlinewidth": 0,
              "ticks": ""
             }
            },
            "type": "scattergl"
           }
          ],
          "scattermapbox": [
           {
            "marker": {
             "colorbar": {
              "outlinewidth": 0,
              "ticks": ""
             }
            },
            "type": "scattermapbox"
           }
          ],
          "scatterpolar": [
           {
            "marker": {
             "colorbar": {
              "outlinewidth": 0,
              "ticks": ""
             }
            },
            "type": "scatterpolar"
           }
          ],
          "scatterpolargl": [
           {
            "marker": {
             "colorbar": {
              "outlinewidth": 0,
              "ticks": ""
             }
            },
            "type": "scatterpolargl"
           }
          ],
          "scatterternary": [
           {
            "marker": {
             "colorbar": {
              "outlinewidth": 0,
              "ticks": ""
             }
            },
            "type": "scatterternary"
           }
          ],
          "surface": [
           {
            "colorbar": {
             "outlinewidth": 0,
             "ticks": ""
            },
            "colorscale": [
             [
              0,
              "#0d0887"
             ],
             [
              0.1111111111111111,
              "#46039f"
             ],
             [
              0.2222222222222222,
              "#7201a8"
             ],
             [
              0.3333333333333333,
              "#9c179e"
             ],
             [
              0.4444444444444444,
              "#bd3786"
             ],
             [
              0.5555555555555556,
              "#d8576b"
             ],
             [
              0.6666666666666666,
              "#ed7953"
             ],
             [
              0.7777777777777778,
              "#fb9f3a"
             ],
             [
              0.8888888888888888,
              "#fdca26"
             ],
             [
              1,
              "#f0f921"
             ]
            ],
            "type": "surface"
           }
          ],
          "table": [
           {
            "cells": {
             "fill": {
              "color": "#EBF0F8"
             },
             "line": {
              "color": "white"
             }
            },
            "header": {
             "fill": {
              "color": "#C8D4E3"
             },
             "line": {
              "color": "white"
             }
            },
            "type": "table"
           }
          ]
         },
         "layout": {
          "annotationdefaults": {
           "arrowcolor": "#2a3f5f",
           "arrowhead": 0,
           "arrowwidth": 1
          },
          "autotypenumbers": "strict",
          "coloraxis": {
           "colorbar": {
            "outlinewidth": 0,
            "ticks": ""
           }
          },
          "colorscale": {
           "diverging": [
            [
             0,
             "#8e0152"
            ],
            [
             0.1,
             "#c51b7d"
            ],
            [
             0.2,
             "#de77ae"
            ],
            [
             0.3,
             "#f1b6da"
            ],
            [
             0.4,
             "#fde0ef"
            ],
            [
             0.5,
             "#f7f7f7"
            ],
            [
             0.6,
             "#e6f5d0"
            ],
            [
             0.7,
             "#b8e186"
            ],
            [
             0.8,
             "#7fbc41"
            ],
            [
             0.9,
             "#4d9221"
            ],
            [
             1,
             "#276419"
            ]
           ],
           "sequential": [
            [
             0,
             "#0d0887"
            ],
            [
             0.1111111111111111,
             "#46039f"
            ],
            [
             0.2222222222222222,
             "#7201a8"
            ],
            [
             0.3333333333333333,
             "#9c179e"
            ],
            [
             0.4444444444444444,
             "#bd3786"
            ],
            [
             0.5555555555555556,
             "#d8576b"
            ],
            [
             0.6666666666666666,
             "#ed7953"
            ],
            [
             0.7777777777777778,
             "#fb9f3a"
            ],
            [
             0.8888888888888888,
             "#fdca26"
            ],
            [
             1,
             "#f0f921"
            ]
           ],
           "sequentialminus": [
            [
             0,
             "#0d0887"
            ],
            [
             0.1111111111111111,
             "#46039f"
            ],
            [
             0.2222222222222222,
             "#7201a8"
            ],
            [
             0.3333333333333333,
             "#9c179e"
            ],
            [
             0.4444444444444444,
             "#bd3786"
            ],
            [
             0.5555555555555556,
             "#d8576b"
            ],
            [
             0.6666666666666666,
             "#ed7953"
            ],
            [
             0.7777777777777778,
             "#fb9f3a"
            ],
            [
             0.8888888888888888,
             "#fdca26"
            ],
            [
             1,
             "#f0f921"
            ]
           ]
          },
          "colorway": [
           "#636efa",
           "#EF553B",
           "#00cc96",
           "#ab63fa",
           "#FFA15A",
           "#19d3f3",
           "#FF6692",
           "#B6E880",
           "#FF97FF",
           "#FECB52"
          ],
          "font": {
           "color": "#2a3f5f"
          },
          "geo": {
           "bgcolor": "white",
           "lakecolor": "white",
           "landcolor": "#E5ECF6",
           "showlakes": true,
           "showland": true,
           "subunitcolor": "white"
          },
          "hoverlabel": {
           "align": "left"
          },
          "hovermode": "closest",
          "mapbox": {
           "style": "light"
          },
          "paper_bgcolor": "white",
          "plot_bgcolor": "#E5ECF6",
          "polar": {
           "angularaxis": {
            "gridcolor": "white",
            "linecolor": "white",
            "ticks": ""
           },
           "bgcolor": "#E5ECF6",
           "radialaxis": {
            "gridcolor": "white",
            "linecolor": "white",
            "ticks": ""
           }
          },
          "scene": {
           "xaxis": {
            "backgroundcolor": "#E5ECF6",
            "gridcolor": "white",
            "gridwidth": 2,
            "linecolor": "white",
            "showbackground": true,
            "ticks": "",
            "zerolinecolor": "white"
           },
           "yaxis": {
            "backgroundcolor": "#E5ECF6",
            "gridcolor": "white",
            "gridwidth": 2,
            "linecolor": "white",
            "showbackground": true,
            "ticks": "",
            "zerolinecolor": "white"
           },
           "zaxis": {
            "backgroundcolor": "#E5ECF6",
            "gridcolor": "white",
            "gridwidth": 2,
            "linecolor": "white",
            "showbackground": true,
            "ticks": "",
            "zerolinecolor": "white"
           }
          },
          "shapedefaults": {
           "line": {
            "color": "#2a3f5f"
           }
          },
          "ternary": {
           "aaxis": {
            "gridcolor": "white",
            "linecolor": "white",
            "ticks": ""
           },
           "baxis": {
            "gridcolor": "white",
            "linecolor": "white",
            "ticks": ""
           },
           "bgcolor": "#E5ECF6",
           "caxis": {
            "gridcolor": "white",
            "linecolor": "white",
            "ticks": ""
           }
          },
          "title": {
           "x": 0.05
          },
          "xaxis": {
           "automargin": true,
           "gridcolor": "white",
           "linecolor": "white",
           "ticks": "",
           "title": {
            "standoff": 15
           },
           "zerolinecolor": "white",
           "zerolinewidth": 2
          },
          "yaxis": {
           "automargin": true,
           "gridcolor": "white",
           "linecolor": "white",
           "ticks": "",
           "title": {
            "standoff": 15
           },
           "zerolinecolor": "white",
           "zerolinewidth": 2
          }
         }
        },
        "title": {
         "text": "2D"
        },
        "xaxis": {
         "anchor": "y",
         "domain": [
          0,
          1
         ],
         "title": {
          "text": "UMAP1"
         }
        },
        "yaxis": {
         "anchor": "x",
         "domain": [
          0,
          1
         ],
         "title": {
          "text": "UMAP2"
         }
        }
       }
      },
      "image/png": "[encoded data removed]",
      "text/html": [
       "<div>                            <div id=\"92c9904e-5108-42f2-aa9f-54b06ed245b5\" class=\"plotly-graph-div\" style=\"height:525px; width:100%;\"></div>            <script type=\"text/javascript\">                require([\"plotly\"], function(Plotly) {                    window.PLOTLYENV=window.PLOTLYENV || {};                                    if (document.getElementById(\"92c9904e-5108-42f2-aa9f-54b06ed245b5\")) {                    Plotly.newPlot(                        \"92c9904e-5108-42f2-aa9f-54b06ed245b5\",                        [{\"hovertemplate\":\"Speaker=1\\u003cbr\\u003eUMAP1=%{x}\\u003cbr\\u003eUMAP2=%{y}\\u003cextra\\u003e\\u003c\\u002fextra\\u003e\",\"legendgroup\":\"1\",\"marker\":{\"color\":\"#636efa\",\"symbol\":\"circle\"},\"mode\":\"markers\",\"name\":\"1\",\"orientation\":\"v\",\"showlegend\":true,\"x\":[5.506921291351318,6.01260232925415,5.559943675994873,5.91020393371582,5.9577813148498535,5.667328357696533,5.680363655090332,9.732378005981445,9.528444290161133,9.642611503601074],\"xaxis\":\"x\",\"y\":[12.86364459991455,13.071293830871582,13.154748916625977,13.033879280090332,12.72740650177002,13.044717788696289,12.389435768127441,11.027095794677734,11.138419151306152,11.149845123291016],\"yaxis\":\"y\",\"type\":\"scatter\"},{\"hovertemplate\":\"Speaker=2\\u003cbr\\u003eUMAP1=%{x}\\u003cbr\\u003eUMAP2=%{y}\\u003cextra\\u003e\\u003c\\u002fextra\\u003e\",\"legendgroup\":\"2\",\"marker\":{\"color\":\"#EF553B\",\"symbol\":\"circle\"},\"mode\":\"markers\",\"name\":\"2\",\"orientation\":\"v\",\"showlegend\":true,\"x\":[9.829533576965332,9.686297416687012,9.84250545501709,9.512036323547363,9.945669174194336,9.635369300842285,10.14558219909668,9.75070571899414,10.063547134399414,10.120675086975098],\"xaxis\":\"x\",\"y\":[9.748323440551758,9.675298690795898,9.340575218200684,9.282997131347656,9.703104019165039,9.537153244018555,9.542342185974121,9.385486602783203,9.256159782409668,9.59688949584961],\"yaxis\":\"y\",\"type\":\"scatter\"},{\"hovertemplate\":\"Speaker=3\\u003cbr\\u003eUMAP1=%{x}\\u003cbr\\u003eUMAP2=%{y}\\u003cextra\\u003e\\u003c\\u002fextra\\u003e\",\"legendgroup\":\"3\",\"marker\":{\"color\":\"#00cc96\",\"symbol\":\"circle\"},\"mode\":\"markers\",\"name\":\"3\",\"orientation\":\"v\",\"showlegend\":true,\"x\":[14.957818984985352,14.990983963012695,14.527857780456543,15.196723937988281,14.968608856201172,15.057391166687012,14.634084701538086,14.458809852600098,14.846126556396484,14.43765640258789],\"xaxis\":\"x\",\"y\":[14.024517059326172,14.370074272155762,14.358920097351074,14.077388763427734,13.976627349853516,13.881668090820312,14.086089134216309,13.916790962219238,14.126748085021973,14.208582878112793],\"yaxis\":\"y\",\"type\":\"scatter\"},{\"hovertemplate\":\"Speaker=4\\u003cbr\\u003eUMAP1=%{x}\\u003cbr\\u003eUMAP2=%{y}\\u003cextra\\u003e\\u003c\\u002fextra\\u003e\",\"legendgroup\":\"4\",\"marker\":{\"color\":\"#ab63fa\",\"symbol\":\"circle\"},\"mode\":\"markers\",\"name\":\"4\",\"orientation\":\"v\",\"showlegend\":true,\"x\":[5.1155877113342285,5.183616638183594,5.285923480987549,4.911078929901123,4.915215015411377,4.893434047698975,5.064069747924805,5.058516025543213,5.173419952392578,5.237490653991699],\"xaxis\":\"x\",\"y\":[10.872771263122559,10.832409858703613,10.514154434204102,10.959342956542969,10.583931922912598,10.565810203552246,10.591279029846191,10.851419448852539,10.354283332824707,10.964080810546875],\"yaxis\":\"y\",\"type\":\"scatter\"},{\"hovertemplate\":\"Speaker=5\\u003cbr\\u003eUMAP1=%{x}\\u003cbr\\u003eUMAP2=%{y}\\u003cextra\\u003e\\u003c\\u002fextra\\u003e\",\"legendgroup\":\"5\",\"marker\":{\"color\":\"#FFA15A\",\"symbol\":\"circle\"},\"mode\":\"markers\",\"name\":\"5\",\"orientation\":\"v\",\"showlegend\":true,\"x\":[12.711339950561523,12.442739486694336,12.76006031036377,12.485761642456055,12.301782608032227,12.678946495056152,12.93076229095459,12.522026062011719,12.445404052734375,12.52174186706543],\"xaxis\":\"x\",\"y\":[15.141164779663086,14.846346855163574,15.286456108093262,15.058418273925781,15.04636287689209,14.978055953979492,15.08014965057373,14.759846687316895,15.360941886901855,15.3939208984375],\"yaxis\":\"y\",\"type\":\"scatter\"},{\"hovertemplate\":\"Speaker=6\\u003cbr\\u003eUMAP1=%{x}\\u003cbr\\u003eUMAP2=%{y}\\u003cextra\\u003e\\u003c\\u002fextra\\u003e\",\"legendgroup\":\"6\",\"marker\":{\"color\":\"#19d3f3\",\"symbol\":\"circle\"},\"mode\":\"markers\",\"name\":\"6\",\"orientation\":\"v\",\"showlegend\":true,\"x\":[13.59528636932373,13.984109878540039,14.070748329162598,13.728784561157227,13.853487014770508,13.604485511779785,13.984354019165039,13.719287872314453,13.957056999206543,13.446792602539062],\"xaxis\":\"x\",\"y\":[2.6956019401550293,2.494746208190918,2.5123178958892822,2.6012961864471436,2.7393109798431396,2.3712158203125,2.3157405853271484,2.460078716278076,2.5295536518096924,2.6204686164855957],\"yaxis\":\"y\",\"type\":\"scatter\"},{\"hovertemplate\":\"Speaker=7\\u003cbr\\u003eUMAP1=%{x}\\u003cbr\\u003eUMAP2=%{y}\\u003cextra\\u003e\\u003c\\u002fextra\\u003e\",\"legendgroup\":\"7\",\"marker\":{\"color\":\"#FF6692\",\"symbol\":\"circle\"},\"mode\":\"markers\",\"name\":\"7\",\"orientation\":\"v\",\"showlegend\":true,\"x\":[5.841790676116943,6.099458694458008,5.754965782165527,5.7567009925842285,9.467612266540527,5.953701972961426,5.707783222198486,5.968632221221924,5.937485218048096,5.775062084197998],\"xaxis\":\"x\",\"y\":[14.305773735046387,14.06794548034668,14.084423065185547,14.366490364074707,11.445213317871094,14.26453685760498,14.287285804748535,14.058993339538574,14.460404396057129,13.824959754943848],\"yaxis\":\"y\",\"type\":\"scatter\"},{\"hovertemplate\":\"Speaker=8\\u003cbr\\u003eUMAP1=%{x}\\u003cbr\\u003eUMAP2=%{y}\\u003cextra\\u003e\\u003c\\u002fextra\\u003e\",\"legendgroup\":\"8\",\"marker\":{\"color\":\"#B6E880\",\"symbol\":\"circle\"},\"mode\":\"markers\",\"name\":\"8\",\"orientation\":\"v\",\"showlegend\":true,\"x\":[15.209955215454102,14.881044387817383,14.866717338562012,14.716099739074707,15.123617172241211,14.790718078613281,15.140496253967285,14.800122261047363,15.00536823272705,15.243623733520508],\"xaxis\":\"x\",\"y\":[10.416905403137207,10.793785095214844,10.837522506713867,10.526505470275879,10.775595664978027,10.551994323730469,10.741125106811523,10.582605361938477,10.300673484802246,10.537660598754883],\"yaxis\":\"y\",\"type\":\"scatter\"},{\"hovertemplate\":\"Speaker=9\\u003cbr\\u003eUMAP1=%{x}\\u003cbr\\u003eUMAP2=%{y}\\u003cextra\\u003e\\u003c\\u002fextra\\u003e\",\"legendgroup\":\"9\",\"marker\":{\"color\":\"#FF97FF\",\"symbol\":\"circle\"},\"mode\":\"markers\",\"name\":\"9\",\"orientation\":\"v\",\"showlegend\":true,\"x\":[6.5095624923706055,6.537351131439209,6.630868911743164,6.394574165344238,6.689520835876465,6.600818634033203,6.483651638031006,6.820457458496094,9.621259689331055,9.415453910827637],\"xaxis\":\"x\",\"y\":[12.262500762939453,12.404197692871094,12.122273445129395,12.487859725952148,12.419652938842773,12.678363800048828,12.860366821289062,12.391338348388672,10.946573257446289,10.947293281555176],\"yaxis\":\"y\",\"type\":\"scatter\"},{\"hovertemplate\":\"Speaker=10\\u003cbr\\u003eUMAP1=%{x}\\u003cbr\\u003eUMAP2=%{y}\\u003cextra\\u003e\\u003c\\u002fextra\\u003e\",\"legendgroup\":\"10\",\"marker\":{\"color\":\"#FECB52\",\"symbol\":\"circle\"},\"mode\":\"markers\",\"name\":\"10\",\"orientation\":\"v\",\"showlegend\":true,\"x\":[16.341264724731445,16.513811111450195,16.624940872192383,16.12788963317871,16.516542434692383,16.313060760498047,16.346363067626953,16.428272247314453,16.68079376220703,16.424564361572266],\"xaxis\":\"x\",\"y\":[16.046640396118164,15.83414363861084,16.270145416259766,16.273183822631836,16.196136474609375,16.376983642578125,16.313987731933594,16.267763137817383,15.9568452835083,15.849404335021973],\"yaxis\":\"y\",\"type\":\"scatter\"}],                        {\"template\":{\"data\":{\"histogram2dcontour\":[{\"type\":\"histogram2dcontour\",\"colorbar\":{\"outlinewidth\":0,\"ticks\":\"\"},\"colorscale\":[[0.0,\"#0d0887\"],[0.1111111111111111,\"#46039f\"],[0.2222222222222222,\"#7201a8\"],[0.3333333333333333,\"#9c179e\"],[0.4444444444444444,\"#bd3786\"],[0.5555555555555556,\"#d8576b\"],[0.6666666666666666,\"#ed7953\"],[0.7777777777777778,\"#fb9f3a\"],[0.8888888888888888,\"#fdca26\"],[1.0,\"#f0f921\"]]}],\"choropleth\":[{\"type\":\"choropleth\",\"colorbar\":{\"outlinewidth\":0,\"ticks\":\"\"}}],\"histogram2d\":[{\"type\":\"histogram2d\",\"colorbar\":{\"outlinewidth\":0,\"ticks\":\"\"},\"colorscale\":[[0.0,\"#0d0887\"],[0.1111111111111111,\"#46039f\"],[0.2222222222222222,\"#7201a8\"],[0.3333333333333333,\"#9c179e\"],[0.4444444444444444,\"#bd3786\"],[0.5555555555555556,\"#d8576b\"],[0.6666666666666666,\"#ed7953\"],[0.7777777777777778,\"#fb9f3a\"],[0.8888888888888888,\"#fdca26\"],[1.0,\"#f0f921\"]]}],\"heatmap\":[{\"type\":\"heatmap\",\"colorbar\":{\"outlinewidth\":0,\"ticks\":\"\"},\"colorscale\":[[0.0,\"#0d0887\"],[0.1111111111111111,\"#46039f\"],[0.2222222222222222,\"#7201a8\"],[0.3333333333333333,\"#9c179e\"],[0.4444444444444444,\"#bd3786\"],[0.5555555555555556,\"#d8576b\"],[0.6666666666666666,\"#ed7953\"],[0.7777777777777778,\"#fb9f3a\"],[0.8888888888888888,\"#fdca26\"],[1.0,\"#f0f921\"]]}],\"heatmapgl\":[{\"type\":\"heatmapgl\",\"colorbar\":{\"outlinewidth\":0,\"ticks\":\"\"},\"colorscale\":[[0.0,\"#0d0887\"],[0.1111111111111111,\"#46039f\"],[0.2222222222222222,\"#7201a8\"],[0.3333333333333333,\"#9c179e\"],[0.4444444444444444,\"#bd3786\"],[0.5555555555555556,\"#d8576b\"],[0.6666666666666666,\"#ed7953\"],[0.7777777777777778,\"#fb9f3a\"],[0.8888888888888888,\"#fdca26\"],[1.0,\"#f0f921\"]]}],\"contourcarpet\":[{\"type\":\"contourcarpet\",\"colorbar\":{\"outlinewidth\":0,\"ticks\":\"\"}}],\"contour\":[{\"type\":\"contour\",\"colorbar\":{\"outlinewidth\":0,\"ticks\":\"\"},\"colorscale\":[[0.0,\"#0d0887\"],[0.1111111111111111,\"#46039f\"],[0.2222222222222222,\"#7201a8\"],[0.3333333333333333,\"#9c179e\"],[0.4444444444444444,\"#bd3786\"],[0.5555555555555556,\"#d8576b\"],[0.6666666666666666,\"#ed7953\"],[0.7777777777777778,\"#fb9f3a\"],[0.8888888888888888,\"#fdca26\"],[1.0,\"#f0f921\"]]}],\"surface\":[{\"type\":\"surface\",\"colorbar\":{\"outlinewidth\":0,\"ticks\":\"\"},\"colorscale\":[[0.0,\"#0d0887\"],[0.1111111111111111,\"#46039f\"],[0.2222222222222222,\"#7201a8\"],[0.3333333333333333,\"#9c179e\"],[0.4444444444444444,\"#bd3786\"],[0.5555555555555556,\"#d8576b\"],[0.6666666666666666,\"#ed7953\"],[0.7777777777777778,\"#fb9f3a\"],[0.8888888888888888,\"#fdca26\"],[1.0,\"#f0f921\"]]}],\"mesh3d\":[{\"type\":\"mesh3d\",\"colorbar\":{\"outlinewidth\":0,\"ticks\":\"\"}}],\"scatter\":[{\"fillpattern\":{\"fillmode\":\"overlay\",\"size\":10,\"solidity\":0.2},\"type\":\"scatter\"}],\"parcoords\":[{\"type\":\"parcoords\",\"line\":{\"colorbar\":{\"outlinewidth\":0,\"ticks\":\"\"}}}],\"scatterpolargl\":[{\"type\":\"scatterpolargl\",\"marker\":{\"colorbar\":{\"outlinewidth\":0,\"ticks\":\"\"}}}],\"bar\":[{\"error_x\":{\"color\":\"#2a3f5f\"},\"error_y\":{\"color\":\"#2a3f5f\"},\"marker\":{\"line\":{\"color\":\"#E5ECF6\",\"width\":0.5},\"pattern\":{\"fillmode\":\"overlay\",\"size\":10,\"solidity\":0.2}},\"type\":\"bar\"}],\"scattergeo\":[{\"type\":\"scattergeo\",\"marker\":{\"colorbar\":{\"outlinewidth\":0,\"ticks\":\"\"}}}],\"scatterpolar\":[{\"type\":\"scatterpolar\",\"marker\":{\"colorbar\":{\"outlinewidth\":0,\"ticks\":\"\"}}}],\"histogram\":[{\"marker\":{\"pattern\":{\"fillmode\":\"overlay\",\"size\":10,\"solidity\":0.2}},\"type\":\"histogram\"}],\"scattergl\":[{\"type\":\"scattergl\",\"marker\":{\"colorbar\":{\"outlinewidth\":0,\"ticks\":\"\"}}}],\"scatter3d\":[{\"type\":\"scatter3d\",\"line\":{\"colorbar\":{\"outlinewidth\":0,\"ticks\":\"\"}},\"marker\":{\"colorbar\":{\"outlinewidth\":0,\"ticks\":\"\"}}}],\"scattermapbox\":[{\"type\":\"scattermapbox\",\"marker\":{\"colorbar\":{\"outlinewidth\":0,\"ticks\":\"\"}}}],\"scatterternary\":[{\"type\":\"scatterternary\",\"marker\":{\"colorbar\":{\"outlinewidth\":0,\"ticks\":\"\"}}}],\"scattercarpet\":[{\"type\":\"scattercarpet\",\"marker\":{\"colorbar\":{\"outlinewidth\":0,\"ticks\":\"\"}}}],\"carpet\":[{\"aaxis\":{\"endlinecolor\":\"#2a3f5f\",\"gridcolor\":\"white\",\"linecolor\":\"white\",\"minorgridcolor\":\"white\",\"startlinecolor\":\"#2a3f5f\"},\"baxis\":{\"endlinecolor\":\"#2a3f5f\",\"gridcolor\":\"white\",\"linecolor\":\"white\",\"minorgridcolor\":\"white\",\"startlinecolor\":\"#2a3f5f\"},\"type\":\"carpet\"}],\"table\":[{\"cells\":{\"fill\":{\"color\":\"#EBF0F8\"},\"line\":{\"color\":\"white\"}},\"header\":{\"fill\":{\"color\":\"#C8D4E3\"},\"line\":{\"color\":\"white\"}},\"type\":\"table\"}],\"barpolar\":[{\"marker\":{\"line\":{\"color\":\"#E5ECF6\",\"width\":0.5},\"pattern\":{\"fillmode\":\"overlay\",\"size\":10,\"solidity\":0.2}},\"type\":\"barpolar\"}],\"pie\":[{\"automargin\":true,\"type\":\"pie\"}]},\"layout\":{\"autotypenumbers\":\"strict\",\"colorway\":[\"#636efa\",\"#EF553B\",\"#00cc96\",\"#ab63fa\",\"#FFA15A\",\"#19d3f3\",\"#FF6692\",\"#B6E880\",\"#FF97FF\",\"#FECB52\"],\"font\":{\"color\":\"#2a3f5f\"},\"hovermode\":\"closest\",\"hoverlabel\":{\"align\":\"left\"},\"paper_bgcolor\":\"white\",\"plot_bgcolor\":\"#E5ECF6\",\"polar\":{\"bgcolor\":\"#E5ECF6\",\"angularaxis\":{\"gridcolor\":\"white\",\"linecolor\":\"white\",\"ticks\":\"\"},\"radialaxis\":{\"gridcolor\":\"white\",\"linecolor\":\"white\",\"ticks\":\"\"}},\"ternary\":{\"bgcolor\":\"#E5ECF6\",\"aaxis\":{\"gridcolor\":\"white\",\"linecolor\":\"white\",\"ticks\":\"\"},\"baxis\":{\"gridcolor\":\"white\",\"linecolor\":\"white\",\"ticks\":\"\"},\"caxis\":{\"gridcolor\":\"white\",\"linecolor\":\"white\",\"ticks\":\"\"}},\"coloraxis\":{\"colorbar\":{\"outlinewidth\":0,\"ticks\":\"\"}},\"colorscale\":{\"sequential\":[[0.0,\"#0d0887\"],[0.1111111111111111,\"#46039f\"],[0.2222222222222222,\"#7201a8\"],[0.3333333333333333,\"#9c179e\"],[0.4444444444444444,\"#bd3786\"],[0.5555555555555556,\"#d8576b\"],[0.6666666666666666,\"#ed7953\"],[0.7777777777777778,\"#fb9f3a\"],[0.8888888888888888,\"#fdca26\"],[1.0,\"#f0f921\"]],\"sequentialminus\":[[0.0,\"#0d0887\"],[0.1111111111111111,\"#46039f\"],[0.2222222222222222,\"#7201a8\"],[0.3333333333333333,\"#9c179e\"],[0.4444444444444444,\"#bd3786\"],[0.5555555555555556,\"#d8576b\"],[0.6666666666666666,\"#ed7953\"],[0.7777777777777778,\"#fb9f3a\"],[0.8888888888888888,\"#fdca26\"],[1.0,\"#f0f921\"]],\"diverging\":[[0,\"#8e0152\"],[0.1,\"#c51b7d\"],[0.2,\"#de77ae\"],[0.3,\"#f1b6da\"],[0.4,\"#fde0ef\"],[0.5,\"#f7f7f7\"],[0.6,\"#e6f5d0\"],[0.7,\"#b8e186\"],[0.8,\"#7fbc41\"],[0.9,\"#4d9221\"],[1,\"#276419\"]]},\"xaxis\":{\"gridcolor\":\"white\",\"linecolor\":\"white\",\"ticks\":\"\",\"title\":{\"standoff\":15},\"zerolinecolor\":\"white\",\"automargin\":true,\"zerolinewidth\":2},\"yaxis\":{\"gridcolor\":\"white\",\"linecolor\":\"white\",\"ticks\":\"\",\"title\":{\"standoff\":15},\"zerolinecolor\":\"white\",\"automargin\":true,\"zerolinewidth\":2},\"scene\":{\"xaxis\":{\"backgroundcolor\":\"#E5ECF6\",\"gridcolor\":\"white\",\"linecolor\":\"white\",\"showbackground\":true,\"ticks\":\"\",\"zerolinecolor\":\"white\",\"gridwidth\":2},\"yaxis\":{\"backgroundcolor\":\"#E5ECF6\",\"gridcolor\":\"white\",\"linecolor\":\"white\",\"showbackground\":true,\"ticks\":\"\",\"zerolinecolor\":\"white\",\"gridwidth\":2},\"zaxis\":{\"backgroundcolor\":\"#E5ECF6\",\"gridcolor\":\"white\",\"linecolor\":\"white\",\"showbackground\":true,\"ticks\":\"\",\"zerolinecolor\":\"white\",\"gridwidth\":2}},\"shapedefaults\":{\"line\":{\"color\":\"#2a3f5f\"}},\"annotationdefaults\":{\"arrowcolor\":\"#2a3f5f\",\"arrowhead\":0,\"arrowwidth\":1},\"geo\":{\"bgcolor\":\"white\",\"landcolor\":\"#E5ECF6\",\"subunitcolor\":\"white\",\"showland\":true,\"showlakes\":true,\"lakecolor\":\"white\"},\"title\":{\"x\":0.05},\"mapbox\":{\"style\":\"light\"}}},\"xaxis\":{\"anchor\":\"y\",\"domain\":[0.0,1.0],\"title\":{\"text\":\"UMAP1\"}},\"yaxis\":{\"anchor\":\"x\",\"domain\":[0.0,1.0],\"title\":{\"text\":\"UMAP2\"}},\"legend\":{\"title\":{\"text\":\"Speaker\"},\"tracegroupgap\":0},\"title\":{\"text\":\"2D\"}},                        {\"responsive\": true}                    ).then(function(){\n",
       "                            \n",
       "var gd = document.getElementById('92c9904e-5108-42f2-aa9f-54b06ed245b5');\n",
       "var x = new MutationObserver(function (mutations, observer) {{\n",
       "        var display = window.getComputedStyle(gd).display;\n",
       "        if (!display || display === 'none') {{\n",
       "            console.log([gd, 'removed!']);\n",
       "            Plotly.purge(gd);\n",
       "            observer.disconnect();\n",
       "        }}\n",
       "}});\n",
       "\n",
       "// Listen for the removal of the full notebook cells\n",
       "var notebookContainer = gd.closest('#notebook-container');\n",
       "if (notebookContainer) {{\n",
       "    x.observe(notebookContainer, {childList: true});\n",
       "}}\n",
       "\n",
       "// Listen for the clearing of the current output cell\n",
       "var outputEl = gd.closest('.output');\n",
       "if (outputEl) {{\n",
       "    x.observe(outputEl, {childList: true});\n",
       "}}\n",
       "\n",
       "                        })                };                });            </script>        </div>"
      ]
     },
     "metadata": {},
     "output_type": "display_data"
    }
   ],
   "source": [
    "l_str_speaker =  np.repeat(np.arange(1, 11), 10)\n",
    "umap_df = {\n",
    "    \"UMAP1\"  : X_umap[:, 0],\n",
    "    \"UMAP2\"  : X_umap[:, 1],\n",
    "    \"Speaker\": l_str_speaker.astype(str)\n",
    "    #\"Speaker\": df_dataset.speaker.values\n",
    "}\n",
    "\n",
    "fig = px.scatter(\n",
    "    umap_df,\n",
    "    x     = \"UMAP1\",\n",
    "    y     = \"UMAP2\",\n",
    "    color = \"Speaker\",\n",
    "    title = \"2D\",    \n",
    ")\n",
    "\n",
    "fig.show()"
   ]
  }
 ],
 "metadata": {
  "kernelspec": {
   "display_name": "Python 3 (ipykernel)",
   "language": "python",
   "name": "python3"
  },
  "language_info": {
   "codemirror_mode": {
    "name": "ipython",
    "version": 3
   },
   "file_extension": ".py",
   "mimetype": "text/x-python",
   "name": "python",
   "nbconvert_exporter": "python",
   "pygments_lexer": "ipython3",
   "version": "3.10.0"
  }
 },
 "nbformat": 4,
 "nbformat_minor": 5
}
