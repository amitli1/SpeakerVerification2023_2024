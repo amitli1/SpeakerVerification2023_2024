{
 "cells": [
  {
   "cell_type": "code",
   "execution_count": 4,
   "id": "b0992ed3-6fb2-4f7c-b5b2-6c1aaf632b18",
   "metadata": {},
   "outputs": [],
   "source": [
    "import pandas as pd\n",
    "import os\n",
    "import shutil\n",
    "from tqdm import tqdm\n",
    "\n",
    "SRC_PATH = r'F:\\Hackathon_Dataset'\n",
    "DST_PATH = r'C:\\Users\\amitli\\Repo\\SpeakerVerification2024\\Dataset_SR32000'\n",
    "df       = pd.read_csv(r'F:\\Hackathon_Dataset\\Hackathon_final_without_outliers.csv')\n",
    "df       = df[df.language == 'arabic']\n"
   ]
  },
  {
   "cell_type": "code",
   "execution_count": 2,
   "id": "23bedaf6-6695-42b4-99f4-e632d0a77ef7",
   "metadata": {},
   "outputs": [],
   "source": [
    "\n",
    "total_collect = 0\n",
    "l_speaker     = []\n",
    "l_fname       = []\n",
    "for speaker in list(set(df.speaker.values)):\n",
    "    df_speaker = df[df.speaker == speaker]\n",
    "    \n",
    "    if len(df_speaker) < 10:\n",
    "        continue\n",
    "\n",
    "    if len(set(l_speaker)) == 10:        \n",
    "        break\n",
    "\n",
    "    for i, file_name in enumerate(df_speaker.final_file.values):\n",
    "\n",
    "        if i == 10:\n",
    "            break\n",
    "\n",
    "        l_speaker.append(speaker)\n",
    "        l_fname  .append(file_name)        \n",
    "        shutil.copy(rf'{SRC_PATH}/{file_name}', rf'{DST_PATH}/{file_name}')\n",
    "\n",
    "df_results = pd.DataFrame({'speaker': l_speaker, 'file_name': l_fname})\n",
    "df_results.to_csv(rf\"{DST_PATH}/speakers.csv\")"
   ]
  },
  {
   "cell_type": "code",
   "execution_count": 5,
   "id": "270f4f53-fd46-4eb9-a05c-a636d34f0873",
   "metadata": {},
   "outputs": [
    {
     "name": "stderr",
     "output_type": "stream",
     "text": [
      "100%|███████████████████████████████████████████████████████████████████████████████| 100/100 [00:00<00:00, 166.34it/s]\n"
     ]
    }
   ],
   "source": [
    "import torchaudio\n",
    "import torchaudio.transforms as T\n",
    "import glob\n",
    "\n",
    "\n",
    "DST_PATH_16000 = r'C:\\Users\\amitli\\Repo\\SpeakerVerification2024\\Dataset_SR16000'\n",
    "l_files = glob.glob(rf'{DST_PATH}\\*.wav')\n",
    "for file in tqdm(l_files):\n",
    "\n",
    "    # Load the audio file    \n",
    "    waveform, sample_rate = torchaudio.load(file)\n",
    "    if sample_rate != 16000:        \n",
    "        resampler = T.Resample(orig_freq=sample_rate, new_freq=16000)\n",
    "        waveform = resampler(waveform)\n",
    "\n",
    "        torchaudio.save(rf'{DST_PATH_16000}\\{os.path.basename(file)}', waveform, 16000) \n"
   ]
  }
 ],
 "metadata": {
  "kernelspec": {
   "display_name": "Python 3 (ipykernel)",
   "language": "python",
   "name": "python3"
  },
  "language_info": {
   "codemirror_mode": {
    "name": "ipython",
    "version": 3
   },
   "file_extension": ".py",
   "mimetype": "text/x-python",
   "name": "python",
   "nbconvert_exporter": "python",
   "pygments_lexer": "ipython3",
   "version": "3.10.0"
  }
 },
 "nbformat": 4,
 "nbformat_minor": 5
}
